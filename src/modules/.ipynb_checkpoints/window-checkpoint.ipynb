{
 "cells": [
  {
   "cell_type": "code",
   "execution_count": 1,
   "metadata": {},
   "outputs": [],
   "source": [
    "import tkinter as tk"
   ]
  },
  {
   "cell_type": "code",
   "execution_count": 28,
   "metadata": {},
   "outputs": [],
   "source": [
    "class app_window():\n",
    "    \n",
    "    def __init__(self, w=1200, h=900):\n",
    "        self.w = w\n",
    "        self.h = h\n",
    "        self.num = 0\n",
    "        self.window = tk.Tk()\n",
    "        button = tk.Button(self.window, text = 'quit', command=self.quit)\n",
    "        button.pack()\n",
    "        button = tk.Button(self.window, text = '1', command=self.add(1))\n",
    "        button.pack()\n",
    "        button = tk.Button(self.window, text = '2', command=self.add(2))\n",
    "        button.pack()\n",
    "        button = tk.Button(self.window, text = '3', command=self.add(3))\n",
    "        button.pack()\n",
    "        self.window.geometry(str(self.w)+'x'+str(self.h))\n",
    "        self.window.mainloop()\n",
    "        \n",
    "    def quit(self):\n",
    "        self.window.destroy()\n",
    "        \n",
    "    def add(self, x):\n",
    "        self.num += x\n",
    "        print(self.num)"
   ]
  },
  {
   "cell_type": "code",
   "execution_count": 29,
   "metadata": {},
   "outputs": [
    {
     "name": "stdout",
     "output_type": "stream",
     "text": [
      "1\n",
      "3\n",
      "6\n"
     ]
    }
   ],
   "source": [
    "a=app_window()"
   ]
  },
  {
   "cell_type": "code",
   "execution_count": 27,
   "metadata": {},
   "outputs": [
    {
     "name": "stdout",
     "output_type": "stream",
     "text": [
      "1\n",
      "3\n",
      "6\n"
     ]
    }
   ],
   "source": []
  },
  {
   "cell_type": "code",
   "execution_count": null,
   "metadata": {},
   "outputs": [],
   "source": []
  }
 ],
 "metadata": {
  "jupytext": {
   "text_representation": {
    "extension": ".py",
    "format_name": "light",
    "format_version": "1.5",
    "jupytext_version": "1.7.1"
   }
  },
  "kernelspec": {
   "display_name": "Python 3",
   "language": "python",
   "name": "python3"
  },
  "language_info": {
   "codemirror_mode": {
    "name": "ipython",
    "version": 3
   },
   "file_extension": ".py",
   "mimetype": "text/x-python",
   "name": "python",
   "nbconvert_exporter": "python",
   "pygments_lexer": "ipython3",
   "version": "3.7.4"
  }
 },
 "nbformat": 4,
 "nbformat_minor": 4
}
